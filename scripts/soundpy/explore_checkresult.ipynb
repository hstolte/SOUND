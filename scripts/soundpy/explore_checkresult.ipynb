{
 "cells": [
  {
   "cell_type": "code",
   "execution_count": 3,
   "metadata": {
    "collapsed": true
   },
   "outputs": [],
   "source": [
    "import pandas as pd\n",
    "import numpy as np\n",
    "from matplotlib import pyplot as plt\n",
    "import os"
   ]
  },
  {
   "cell_type": "code",
   "execution_count": 9,
   "outputs": [],
   "source": [
    "path = \"../../output/localdebug\"\n",
    "files = os.listdir(path)\n",
    "\n",
    "resultpath = path + os.sep + 'checkresult_SGF-test_0.csv'\n"
   ],
   "metadata": {
    "collapsed": false
   }
  },
  {
   "cell_type": "code",
   "execution_count": 13,
   "outputs": [
    {
     "name": "stderr",
     "output_type": "stream",
     "text": [
      "/var/folders/vm/g55khnp50sv01fjn933k43g00000gn/T/ipykernel_47483/1358004898.py:1: DtypeWarning: Columns (0) have mixed types. Specify dtype option on import or set low_memory=False.\n",
      "  pd.read_csv(resultpath)[:-1]\n"
     ]
    },
    {
     "data": {
      "text/plain": "          1377986401000  0.0\n0         1377986401000  1.0\n1         1377986401000  1.0\n2         1377986401000  0.0\n3         1377986401000  1.0\n4         1377986401000  0.0\n...                 ...  ...\n14878082  1378004397000  0.0\n14878083  1378004397000  1.0\n14878084  1378004397000  1.0\n14878085  1378004397000  1.0\n14878086  1378004397000  0.0\n\n[14878087 rows x 2 columns]",
      "text/html": "<div>\n<style scoped>\n    .dataframe tbody tr th:only-of-type {\n        vertical-align: middle;\n    }\n\n    .dataframe tbody tr th {\n        vertical-align: top;\n    }\n\n    .dataframe thead th {\n        text-align: right;\n    }\n</style>\n<table border=\"1\" class=\"dataframe\">\n  <thead>\n    <tr style=\"text-align: right;\">\n      <th></th>\n      <th>1377986401000</th>\n      <th>0.0</th>\n    </tr>\n  </thead>\n  <tbody>\n    <tr>\n      <th>0</th>\n      <td>1377986401000</td>\n      <td>1.0</td>\n    </tr>\n    <tr>\n      <th>1</th>\n      <td>1377986401000</td>\n      <td>1.0</td>\n    </tr>\n    <tr>\n      <th>2</th>\n      <td>1377986401000</td>\n      <td>0.0</td>\n    </tr>\n    <tr>\n      <th>3</th>\n      <td>1377986401000</td>\n      <td>1.0</td>\n    </tr>\n    <tr>\n      <th>4</th>\n      <td>1377986401000</td>\n      <td>0.0</td>\n    </tr>\n    <tr>\n      <th>...</th>\n      <td>...</td>\n      <td>...</td>\n    </tr>\n    <tr>\n      <th>14878082</th>\n      <td>1378004397000</td>\n      <td>0.0</td>\n    </tr>\n    <tr>\n      <th>14878083</th>\n      <td>1378004397000</td>\n      <td>1.0</td>\n    </tr>\n    <tr>\n      <th>14878084</th>\n      <td>1378004397000</td>\n      <td>1.0</td>\n    </tr>\n    <tr>\n      <th>14878085</th>\n      <td>1378004397000</td>\n      <td>1.0</td>\n    </tr>\n    <tr>\n      <th>14878086</th>\n      <td>1378004397000</td>\n      <td>0.0</td>\n    </tr>\n  </tbody>\n</table>\n<p>14878087 rows × 2 columns</p>\n</div>"
     },
     "execution_count": 13,
     "metadata": {},
     "output_type": "execute_result"
    }
   ],
   "source": [
    "pd.read_csv(resultpath)[:-1]"
   ],
   "metadata": {
    "collapsed": false
   }
  },
  {
   "cell_type": "code",
   "execution_count": null,
   "outputs": [],
   "source": [],
   "metadata": {
    "collapsed": false
   }
  }
 ],
 "metadata": {
  "kernelspec": {
   "display_name": "Python 3",
   "language": "python",
   "name": "python3"
  },
  "language_info": {
   "codemirror_mode": {
    "name": "ipython",
    "version": 2
   },
   "file_extension": ".py",
   "mimetype": "text/x-python",
   "name": "python",
   "nbconvert_exporter": "python",
   "pygments_lexer": "ipython2",
   "version": "2.7.6"
  }
 },
 "nbformat": 4,
 "nbformat_minor": 0
}
