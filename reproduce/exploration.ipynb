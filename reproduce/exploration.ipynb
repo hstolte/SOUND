{
 "cells": [
  {
   "cell_type": "code",
   "execution_count": 2,
   "id": "initial_id",
   "metadata": {
    "collapsed": true,
    "ExecuteTime": {
     "end_time": "2023-09-19T11:30:43.726196Z",
     "start_time": "2023-09-19T11:30:43.549Z"
    }
   },
   "outputs": [],
   "source": [
    "import numpy as np \n",
    "import pandas as pd"
   ]
  },
  {
   "cell_type": "code",
   "execution_count": null,
   "outputs": [],
   "source": [],
   "metadata": {
    "collapsed": false,
    "is_executing": true
   },
   "id": "c0d95dde7ead3beb"
  },
  {
   "cell_type": "code",
   "execution_count": 5,
   "outputs": [],
   "source": [
    "df = pd.read_csv(\"../data/input/sg-debs/sg-debs-1G.csv\", names=[\"id\", \"timestamp\", \"value\", \"isload\", \"plugID\", \"householdID\", \"houseID\"])"
   ],
   "metadata": {
    "collapsed": false,
    "ExecuteTime": {
     "end_time": "2023-09-19T11:33:31.657221Z",
     "start_time": "2023-09-19T11:33:22.995188Z"
    }
   },
   "id": "ac3f01fb67699eb2"
  },
  {
   "cell_type": "code",
   "execution_count": 14,
   "outputs": [
    {
     "name": "stdout",
     "output_type": "stream",
     "text": [
      "526640 29756176 0.017698510722614358\n"
     ]
    }
   ],
   "source": [
    "n_duplicated = 0\n",
    "n_total = 0\n",
    "\n",
    "for name, group in df.groupby([\"isload\", \"plugID\", \"householdID\", \"houseID\"]):\n",
    "    n_duplicated += group[\"timestamp\"].duplicated().sum()\n",
    "    n_total += len(group)\n",
    "    \n",
    "    \n",
    "    # if group[\"timestamp\"].duplicated().sum() > 0: \n",
    "        # print(name, group[\"timestamp\"].duplicated().sum(), len(group))\n",
    "print(n_duplicated, n_total, n_duplicated/n_total)"
   ],
   "metadata": {
    "collapsed": false,
    "ExecuteTime": {
     "end_time": "2023-09-19T13:26:08.323151Z",
     "start_time": "2023-09-19T13:26:02.200735Z"
    }
   },
   "id": "ff11cac762f1a137"
  },
  {
   "cell_type": "code",
   "execution_count": null,
   "outputs": [],
   "source": [],
   "metadata": {
    "collapsed": false
   },
   "id": "8998406c3bdc0de"
  }
 ],
 "metadata": {
  "kernelspec": {
   "display_name": "Python 3",
   "language": "python",
   "name": "python3"
  },
  "language_info": {
   "codemirror_mode": {
    "name": "ipython",
    "version": 2
   },
   "file_extension": ".py",
   "mimetype": "text/x-python",
   "name": "python",
   "nbconvert_exporter": "python",
   "pygments_lexer": "ipython2",
   "version": "2.7.6"
  }
 },
 "nbformat": 4,
 "nbformat_minor": 5
}
